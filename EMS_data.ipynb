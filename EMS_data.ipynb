{
 "cells": [
  {
   "cell_type": "code",
   "execution_count": 13,
   "id": "6c5f1d5f",
   "metadata": {},
   "outputs": [],
   "source": [
    "import numpy as np\n",
    "import matplotlib.pyplot as plt\n",
    "import matplotlib.collections as collections\n",
    "import matplotlib.dates as dates\n",
    "import glob\n",
    "import pandas as pd\n",
    "import os\n",
    "from scipy.interpolate import CubicSpline\n",
    "import datetime\n",
    "import csv\n",
    "from dateutil.parser import parse\n",
    "import math\n",
    "import ipywidgets as widgets\n",
    "from ipywidgets import interactive\n"
   ]
  },
  {
   "cell_type": "code",
   "execution_count": 9,
   "id": "30906b6c",
   "metadata": {},
   "outputs": [],
   "source": [
    "# Get data file names\n",
    "path = r'.\\2022-2023'\n",
    "filenames = glob.glob(path + \"/*.csv\")"
   ]
  },
  {
   "cell_type": "code",
   "execution_count": 10,
   "id": "9d85a738",
   "metadata": {},
   "outputs": [
    {
     "name": "stdout",
     "output_type": "stream",
     "text": [
      "['North_202', 'North_203', 'North_205', 'Outdoor_1', 'South_219', 'South_221', 'South_222', 'South_223', 'South_224', 'South_226']\n",
      "Number of Sensors= 10\n"
     ]
    }
   ],
   "source": [
    "#Split out names of all files\n",
    "names = [os.path.splitext(x)[0] for x in [os.path.basename(x) for x in filenames]]\n",
    "print(names)\n",
    "print(\"Number of Sensors= \" + str( int(len(names))))"
   ]
  },
  {
   "cell_type": "code",
   "execution_count": 11,
   "id": "14e9c9b2",
   "metadata": {
    "scrolled": true
   },
   "outputs": [
    {
     "name": "stdout",
     "output_type": "stream",
     "text": [
      "['.\\\\2022-2023\\\\North_202.csv', '.\\\\2022-2023\\\\North_203.csv', '.\\\\2022-2023\\\\North_205.csv', '.\\\\2022-2023\\\\Outdoor_1.csv', '.\\\\2022-2023\\\\South_219.csv', '.\\\\2022-2023\\\\South_221.csv', '.\\\\2022-2023\\\\South_222.csv', '.\\\\2022-2023\\\\South_223.csv', '.\\\\2022-2023\\\\South_224.csv', '.\\\\2022-2023\\\\South_226.csv']\n"
     ]
    }
   ],
   "source": [
    "print(filenames)\n",
    "\n",
    "def is_date(string, fuzzy=False):\n",
    "    \"\"\"\n",
    "    Return whether the string can be interpreted as a date.\n",
    "\n",
    "    :param string: str, string to check for date\n",
    "    :param fuzzy: bool, ignore unknown tokens in string if True\n",
    "    \"\"\"\n",
    "    try: \n",
    "        parse(string, fuzzy=fuzzy)\n",
    "        return True\n",
    "\n",
    "    except ValueError:\n",
    "        return False\n",
    "    "
   ]
  },
  {
   "cell_type": "code",
   "execution_count": 12,
   "id": "09df2c8f",
   "metadata": {},
   "outputs": [
    {
     "name": "stdout",
     "output_type": "stream",
     "text": [
      ".\\2022-2023\\North_202.csv\n",
      ".\\2022-2023\\North_203.csv\n",
      ".\\2022-2023\\North_205.csv\n",
      ".\\2022-2023\\Outdoor_1.csv\n",
      ".\\2022-2023\\South_219.csv\n",
      ".\\2022-2023\\South_221.csv\n",
      ".\\2022-2023\\South_222.csv\n",
      ".\\2022-2023\\South_223.csv\n",
      ".\\2022-2023\\South_224.csv\n",
      ".\\2022-2023\\South_226.csv\n"
     ]
    }
   ],
   "source": [
    "#combine all files and covert all datetime sequences to float for easier handling of cubic spline.\n",
    "dfs = []\n",
    "for filename in filenames:\n",
    "    print(filename)\n",
    "    head_index = 0\n",
    "    with open (filename,'r') as csv_file:\n",
    "        reader =csv.reader(csv_file)\n",
    "        #next(reader) # skip first row\n",
    "        for row in reader:\n",
    "            if row != []:\n",
    "                if is_date(row[0]):\n",
    "                    #print(head_index)\n",
    "                    break\n",
    "                head_index = head_index + 1\n",
    "            else:\n",
    "                head_index = head_index + 1\n",
    "\n",
    "    head_index = head_index - 1\n",
    "\n",
    "    tail_index = 0\n",
    "    with open (filename,'r') as csv_file:\n",
    "        reader =csv.reader(csv_file)\n",
    "        for row in reversed(list(csv.reader(csv_file))):\n",
    "            #print(row)\n",
    "            if row != []:\n",
    "                if is_date(row[0]):\n",
    "                    #print(tail_index)\n",
    "                    break\n",
    "                # make sure it is not a \"bad line\"\n",
    "                #if(len(row) < 4):\n",
    "                tail_index = tail_index + 1\n",
    "            else:\n",
    "                tail_index = tail_index + 1\n",
    "\n",
    "    df= pd.read_csv(filename, header=head_index, on_bad_lines='skip', infer_datetime_format=True, skip_blank_lines=False, usecols=[i for i in range(3)], low_memory = False)\n",
    "    df.drop(df.tail(tail_index).index,inplace = True)\n",
    "\n",
    "    #df[['Date Time']] = dates.date2num(df[['Date Time']]) #look at dates to understand whats under the hood here\n",
    "    \n",
    "    #replace the column names with more friendly and shortened descriptors\n",
    "    df.rename(columns={df.columns[0]: 'Date', df.columns[1]: 'Temp', df.columns[2]: 'RH'}, inplace=True)\n",
    "    df['Date'] = pd.to_datetime(df['Date'])\n",
    "    df['Temp']= pd.to_numeric(df[\"Temp\"])\n",
    "    df['RH']= pd.to_numeric(df[\"RH\"])\n",
    "    dfs.append(df)"
   ]
  },
  {
   "cell_type": "code",
   "execution_count": 14,
   "id": "f0e9b3bd",
   "metadata": {
    "scrolled": false
   },
   "outputs": [
    {
     "data": {
      "application/vnd.jupyter.widget-view+json": {
       "model_id": "f6928cc16b874ad38eaa61694fdb7723",
       "version_major": 2,
       "version_minor": 0
      },
      "text/plain": [
       "interactive(children=(IntSlider(value=4, description='sensor', max=9), Output()), _dom_classes=('widget-intera…"
      ]
     },
     "execution_count": 14,
     "metadata": {},
     "output_type": "execute_result"
    }
   ],
   "source": [
    "\n",
    "\n",
    "#downsample data for a sensor before plotting\n",
    "\n",
    "num_samp = str('1D')\n",
    "\n",
    "\n",
    "%matplotlib inline\n",
    "\n",
    "#Plot Data\n",
    "def f(sensor):\n",
    "    \n",
    "    #Average RH\n",
    "    AvRH = dfs[sensor].set_index('Date').resample(num_samp).mean().reset_index().RH \n",
    "    #Standard error RH\n",
    "    Std_RH = dfs[sensor].set_index('Date').resample(num_samp).std().reset_index().RH \n",
    "    #Average Temp\n",
    "    AvT = dfs[sensor].set_index('Date').resample(num_samp).mean().reset_index().Temp #average T for Main Gallery \n",
    "    #Standard error Temp\n",
    "    Std_T = dfs[sensor].set_index('Date').resample(num_samp).std().reset_index().Temp #standard error across all sensor and downsamples\n",
    "    #Average Date\n",
    "    Avdate = dfs[sensor].set_index('Date').resample(num_samp).mean().reset_index().Date \n",
    "\n",
    "    #Calculate standard deviation interval of RH and Temp\n",
    "    PlusRHSTD=[x+y for x,y in zip(AvRH, Std_RH)]\n",
    "    MinusRHSTD=[x-y for x,y in zip(AvRH, Std_RH)]\n",
    "    PlusTSTD=[x+y for x,y in zip(AvT, Std_T)]\n",
    "    MinusTSTD=[x-y for x,y in zip(AvT, Std_T)]\n",
    "    \n",
    "    \n",
    "    f, ax = plt.subplots(2,1,figsize=(10,9),sharex=True)\n",
    "\n",
    "    ax[0].axes.get_xaxis().set_visible(False) #set X axis \n",
    "    ax[0].axes.get_yaxis().set_visible(True) #set Y axis\n",
    "    ax[0].scatter(Avdate,AvRH, s = 2, color=\"None\", edgecolor =\"blue\", alpha =1)\n",
    "    ax[0].fill_between(Avdate,MinusRHSTD,PlusRHSTD, edgecolor =\"None\", alpha =0.3 )\n",
    "    ax[0].set_title(names[sensor], size = 14)\n",
    "    ax[0].set_ylabel('% RH', size = 14)\n",
    "    ax[0].axhline(50,linestyle='--', lw=1, color=\"blue\", alpha =0.3)\n",
    "    ax[0].fill_between(Avdate,45,55, color=\"blue\", edgecolor =\"None\", alpha =0.05 )\n",
    "    ax[0].spines['top'].set_visible(False)\n",
    "    ax[0].spines['right'].set_visible(False)\n",
    "    ax[0].spines['bottom'].set_visible(False)\n",
    "    ax[0].spines['left'].set_visible(True)\n",
    "\n",
    "\n",
    "    ax[1].axes.get_xaxis().set_visible(True) #set X axis \n",
    "    ax[1].axes.get_yaxis().set_visible(True) #set Y axis\n",
    "    ax[1].scatter(Avdate,AvT, s = 2, color=\"None\", edgecolor =\"red\", alpha =0.8)\n",
    "    ax[1].fill_between(Avdate,MinusTSTD,PlusTSTD, color=\"red\", edgecolor =\"None\", alpha =0.3)\n",
    "    ax[1].axhline(20,linestyle='--', lw=1, color=\"blue\", alpha =0.3)\n",
    "    ax[1].fill_between(Avdate,18,22, color=\"blue\", edgecolor =\"None\", alpha =0.05)\n",
    "    ax[1].set_ylabel('Temp (C)', size = 14)\n",
    "    ax[1].spines['top'].set_visible(False)\n",
    "    ax[1].spines['right'].set_visible(False)\n",
    "    ax[1].spines['bottom'].set_visible(True)\n",
    "    ax[1].spines['left'].set_visible(True)\n",
    "\n",
    "\n",
    "    f.tight_layout()\n",
    "    plt.show()\n",
    "\n",
    "interactive_plot = interactive(f, sensor=(0, len(names)-1))\n",
    "output = interactive_plot.children[-1]\n",
    "interactive_plot"
   ]
  },
  {
   "cell_type": "code",
   "execution_count": 7,
   "id": "6e39ffbd",
   "metadata": {},
   "outputs": [
    {
     "data": {
      "application/vnd.jupyter.widget-view+json": {
       "model_id": "57349df85a454b208c2a90a58e0b0a9d",
       "version_major": 2,
       "version_minor": 0
      },
      "text/plain": [
       "interactive(children=(IntSlider(value=22, description='sensor', max=45), Output()), _dom_classes=('widget-inte…"
      ]
     },
     "execution_count": 7,
     "metadata": {},
     "output_type": "execute_result"
    }
   ],
   "source": [
    "%matplotlib inline \n",
    "\n",
    "num_samp = str('1D')\n",
    "\n",
    "def g(sensor):\n",
    "    #Average RH\n",
    "    AvRH = dfs[sensor].set_index('Date').resample(num_samp).mean().reset_index().RH \n",
    "    #Standard error RH\n",
    "    Std_RH = dfs[sensor].set_index('Date').resample(num_samp).std().reset_index().RH \n",
    "    #Average Temp\n",
    "    AvT = dfs[sensor].set_index('Date').resample(num_samp).mean().reset_index().Temp #average T for Main Gallery \n",
    "    #Standard error Temp\n",
    "    Std_T = dfs[sensor].set_index('Date').resample(num_samp).std().reset_index().Temp #standard error across all sensor and downsamples\n",
    "    #Average Date\n",
    "    Avdate = dfs[sensor].set_index('Date').resample(num_samp).mean().reset_index().Date \n",
    "    \n",
    "    counts, xedges, yedges = np.histogram2d(AvT, AvRH, bins=40)\n",
    "    \n",
    "    fig, ax = plt.subplots(1,2,figsize=(20,10))\n",
    "    #sns.despine(left=True, bottom=True, right=True)\n",
    "\n",
    "    #2D histogram density plot\n",
    "    ax[0].set_title('Temp-RH ' + names[sensor], size = 24)\n",
    "    #ax[0].set_facecolor((150/255, 150/255, 150/255)) #set gray background\n",
    "    ax[0].scatter(AvT,AvRH, s = 30, color=\"None\", edgecolor =\"black\", alpha =0.8)\n",
    "\n",
    "    #Color Scatter with sampled pixels\n",
    "    ax[1].set_title('Density map', size = 24)\n",
    "    ax[1].imshow(np.rot90(counts))\n",
    "\n",
    "    plt.show()\n",
    "\n",
    "interactive_plot2 = interactive(g, sensor=(0, len(names)-1))\n",
    "output = interactive_plot2.children[-1]\n",
    "interactive_plot2"
   ]
  },
  {
   "cell_type": "code",
   "execution_count": 17,
   "id": "a25909fc",
   "metadata": {},
   "outputs": [
    {
     "ename": "ValueError",
     "evalue": "`x` must be strictly increasing sequence.",
     "output_type": "error",
     "traceback": [
      "\u001b[1;31m---------------------------------------------------------------------------\u001b[0m",
      "\u001b[1;31mValueError\u001b[0m                                Traceback (most recent call last)",
      "Cell \u001b[1;32mIn[17], line 15\u001b[0m\n\u001b[0;32m     10\u001b[0m \u001b[38;5;66;03m#apply cubic spline interpolation to entire dataset- based on longest column- \u001b[39;00m\n\u001b[0;32m     11\u001b[0m \u001b[38;5;66;03m#for even sampling for all galleries or rooms.\u001b[39;00m\n\u001b[0;32m     14\u001b[0m \u001b[38;5;28;01mfor\u001b[39;00m i \u001b[38;5;129;01min\u001b[39;00m \u001b[38;5;28mrange\u001b[39m(\u001b[38;5;28mlen\u001b[39m(dfs)):\n\u001b[1;32m---> 15\u001b[0m     cs_T \u001b[38;5;241m=\u001b[39m \u001b[43mCubicSpline\u001b[49m\u001b[43m(\u001b[49m\u001b[43mdfs\u001b[49m\u001b[43m[\u001b[49m\u001b[43mi\u001b[49m\u001b[43m]\u001b[49m\u001b[38;5;241;43m.\u001b[39;49m\u001b[43mDate\u001b[49m\u001b[43m,\u001b[49m\u001b[43mdfs\u001b[49m\u001b[43m[\u001b[49m\u001b[43mi\u001b[49m\u001b[43m]\u001b[49m\u001b[38;5;241;43m.\u001b[39;49m\u001b[43mTemp\u001b[49m\u001b[43m)\u001b[49m\n\u001b[0;32m     16\u001b[0m     cs_RH \u001b[38;5;241m=\u001b[39m CubicSpline(dfs[i]\u001b[38;5;241m.\u001b[39mDate,dfs[i]\u001b[38;5;241m.\u001b[39mRH)\n\u001b[0;32m     17\u001b[0m     index \u001b[38;5;241m=\u001b[39m pd\u001b[38;5;241m.\u001b[39mRangeIndex(start\u001b[38;5;241m=\u001b[39m\u001b[38;5;241m0\u001b[39m, stop\u001b[38;5;241m=\u001b[39m\u001b[38;5;28mmax\u001b[39m(l))\n",
      "File \u001b[1;32m~\\AppData\\Local\\anaconda3\\envs\\example\\lib\\site-packages\\scipy\\interpolate\\_cubic.py:635\u001b[0m, in \u001b[0;36mCubicSpline.__init__\u001b[1;34m(self, x, y, axis, bc_type, extrapolate)\u001b[0m\n\u001b[0;32m    634\u001b[0m \u001b[38;5;28;01mdef\u001b[39;00m \u001b[38;5;21m__init__\u001b[39m(\u001b[38;5;28mself\u001b[39m, x, y, axis\u001b[38;5;241m=\u001b[39m\u001b[38;5;241m0\u001b[39m, bc_type\u001b[38;5;241m=\u001b[39m\u001b[38;5;124m'\u001b[39m\u001b[38;5;124mnot-a-knot\u001b[39m\u001b[38;5;124m'\u001b[39m, extrapolate\u001b[38;5;241m=\u001b[39m\u001b[38;5;28;01mNone\u001b[39;00m):\n\u001b[1;32m--> 635\u001b[0m     x, dx, y, axis, _ \u001b[38;5;241m=\u001b[39m \u001b[43mprepare_input\u001b[49m\u001b[43m(\u001b[49m\u001b[43mx\u001b[49m\u001b[43m,\u001b[49m\u001b[43m \u001b[49m\u001b[43my\u001b[49m\u001b[43m,\u001b[49m\u001b[43m \u001b[49m\u001b[43maxis\u001b[49m\u001b[43m)\u001b[49m\n\u001b[0;32m    636\u001b[0m     n \u001b[38;5;241m=\u001b[39m \u001b[38;5;28mlen\u001b[39m(x)\n\u001b[0;32m    638\u001b[0m     bc, y \u001b[38;5;241m=\u001b[39m \u001b[38;5;28mself\u001b[39m\u001b[38;5;241m.\u001b[39m_validate_bc(bc_type, y, y\u001b[38;5;241m.\u001b[39mshape[\u001b[38;5;241m1\u001b[39m:], axis)\n",
      "File \u001b[1;32m~\\AppData\\Local\\anaconda3\\envs\\example\\lib\\site-packages\\scipy\\interpolate\\_cubic.py:61\u001b[0m, in \u001b[0;36mprepare_input\u001b[1;34m(x, y, axis, dydx)\u001b[0m\n\u001b[0;32m     59\u001b[0m dx \u001b[38;5;241m=\u001b[39m np\u001b[38;5;241m.\u001b[39mdiff(x)\n\u001b[0;32m     60\u001b[0m \u001b[38;5;28;01mif\u001b[39;00m np\u001b[38;5;241m.\u001b[39many(dx \u001b[38;5;241m<\u001b[39m\u001b[38;5;241m=\u001b[39m \u001b[38;5;241m0\u001b[39m):\n\u001b[1;32m---> 61\u001b[0m     \u001b[38;5;28;01mraise\u001b[39;00m \u001b[38;5;167;01mValueError\u001b[39;00m(\u001b[38;5;124m\"\u001b[39m\u001b[38;5;124m`x` must be strictly increasing sequence.\u001b[39m\u001b[38;5;124m\"\u001b[39m)\n\u001b[0;32m     63\u001b[0m y \u001b[38;5;241m=\u001b[39m np\u001b[38;5;241m.\u001b[39mmoveaxis(y, axis, \u001b[38;5;241m0\u001b[39m)\n\u001b[0;32m     64\u001b[0m \u001b[38;5;28;01mif\u001b[39;00m dydx \u001b[38;5;129;01mis\u001b[39;00m \u001b[38;5;129;01mnot\u001b[39;00m \u001b[38;5;28;01mNone\u001b[39;00m:\n",
      "\u001b[1;31mValueError\u001b[0m: `x` must be strictly increasing sequence."
     ]
    }
   ],
   "source": [
    "#Find and print longest column\n",
    "l=[]\n",
    "\n",
    "for i in range(len(dfs)):\n",
    "    date = dfs[i][['Date']]\n",
    "    l.append(len(date)) #find length of vector and append\n",
    "\n",
    "longest_column = names[l.index(max(l))]\n",
    "\n",
    "#apply cubic spline interpolation to entire dataset- based on longest column- \n",
    "#for even sampling for all galleries or rooms.\n",
    "\n",
    "\n",
    "for i in range(len(dfs)):\n",
    "    cs_T = CubicSpline(dfs[i].Date,dfs[i].Temp)\n",
    "    cs_RH = CubicSpline(dfs[i].Date,dfs[i].RH)\n",
    "    index = pd.RangeIndex(start=0, stop=max(l))\n",
    "    dfs[i] = dfs[i].reindex(index).fillna(method='ffill') #reindex dataframe\n",
    "    dfs[i].Date = dfs[l.index(max(l))].Date\n",
    "    dfs[i].Temp = cs_T(dfs[l.index(max(l))].Date)\n",
    "    dfs[i].RH = cs_RH(dfs[l.index(max(l))].Date)\n",
    "\n",
    "#convert date floats back to date time format   \n",
    "for i in range(len(dfs)):\n",
    "    dfs[i][['Date']]=dates.num2date(dfs[i][['Date']])\n",
    "   "
   ]
  },
  {
   "cell_type": "code",
   "execution_count": null,
   "id": "65fc9014",
   "metadata": {},
   "outputs": [],
   "source": []
  }
 ],
 "metadata": {
  "@webio": {
   "lastCommId": null,
   "lastKernelId": null
  },
  "kernelspec": {
   "display_name": "Python 3 (ipykernel)",
   "language": "python",
   "name": "python3"
  },
  "language_info": {
   "codemirror_mode": {
    "name": "ipython",
    "version": 3
   },
   "file_extension": ".py",
   "mimetype": "text/x-python",
   "name": "python",
   "nbconvert_exporter": "python",
   "pygments_lexer": "ipython3",
   "version": "3.9.16"
  }
 },
 "nbformat": 4,
 "nbformat_minor": 5
}
